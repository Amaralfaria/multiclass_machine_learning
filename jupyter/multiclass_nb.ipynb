{
 "cells": [
  {
   "cell_type": "markdown",
   "id": "c5a8ae76-8e06-4919-ba8c-362ddebda265",
   "metadata": {},
   "source": [
    "# Classificação multiclasse"
   ]
  },
  {
   "cell_type": "markdown",
   "id": "a9676a03-168d-49c5-af69-7450deda2e92",
   "metadata": {},
   "source": [
    "Primeiramente devemos ler os nossos dados"
   ]
  },
  {
   "cell_type": "code",
   "execution_count": 1,
   "id": "b464b45c-13ca-42dc-985c-4560009d3a42",
   "metadata": {},
   "outputs": [
    {
     "name": "stdout",
     "output_type": "stream",
     "text": [
      "      Bean ID   Area  Perimeter  MajorAxisLength  MinorAxisLength  \\\n",
      "6546     6547  54417    915.508       371.619006       187.506834   \n",
      "2808     2809  71656   1097.198       373.846717       245.155851   \n",
      "5091     5092  81277   1086.749       410.108269       254.008398   \n",
      "\n",
      "      AspectRation  Eccentricity  ConvexArea  EquivDiameter    Extent  \\\n",
      "6546      1.981896      0.863372       55168     263.222105  0.803749   \n",
      "2808      1.524935      0.754964       73142     302.051739  0.803499   \n",
      "5091      1.614546      0.785100       81916     321.690986  0.761384   \n",
      "\n",
      "      Solidity  roundness  Compactness  ShapeFactor1  ShapeFactor2  \\\n",
      "6546  0.986387   0.815869     0.708312      0.006829      0.001060   \n",
      "2808  0.979683   0.747984     0.807956      0.005217      0.001371   \n",
      "5091  0.992199   0.864807     0.784405      0.005046      0.001178   \n",
      "\n",
      "      ShapeFactor3  ShapeFactor4     Class  \n",
      "6546      0.501706      0.994328     HOROZ  \n",
      "2808      0.652793      0.995467  BARBUNYA  \n",
      "5091      0.615291      0.993416      CALI  \n"
     ]
    }
   ],
   "source": [
    "import pandas as pd\n",
    "\n",
    "data_path = '../data/Dry_Bean_Dataset.xlsx'\n",
    "beans_data = pd.read_excel(data_path)\n",
    "\n",
    "sample = beans_data.sample(3)\n",
    "print(sample)"
   ]
  },
  {
   "cell_type": "code",
   "execution_count": 2,
   "id": "7c95c992-1c79-48e3-9e7d-de42d373ff47",
   "metadata": {},
   "outputs": [
    {
     "name": "stdout",
     "output_type": "stream",
     "text": [
      "       Area  Perimeter  MajorAxisLength  MinorAxisLength  AspectRation  \\\n",
      "4875  77282   1066.269        411.80318       240.602273      1.711551   \n",
      "\n",
      "      Eccentricity  ConvexArea  EquivDiameter    Extent  Solidity  roundness  \\\n",
      "4875      0.811563       77964      313.68535  0.675885  0.991252    0.85419   \n",
      "\n",
      "      Compactness  ShapeFactor1  ShapeFactor2  ShapeFactor3  ShapeFactor4  \n",
      "4875     0.761736      0.005329      0.001107      0.580242      0.993114  \n"
     ]
    }
   ],
   "source": [
    "X = beans_data.iloc[:,1:-1]\n",
    "y = beans_data.Class\n",
    "\n",
    "print(X.sample(1))"
   ]
  },
  {
   "cell_type": "code",
   "execution_count": 3,
   "id": "1d8bb841-d6ef-474a-bb28-a46c3fecf2e9",
   "metadata": {},
   "outputs": [],
   "source": [
    "from sklearn.model_selection import train_test_split\n",
    "\n",
    "X_train, X_test, y_train, y_test = train_test_split(X, y, test_size=0.25, random_state=16)"
   ]
  },
  {
   "cell_type": "markdown",
   "id": "380499fd-08bd-4f3b-9f80-f2641a27976b",
   "metadata": {},
   "source": [
    "## Método One versus Rest"
   ]
  },
  {
   "cell_type": "code",
   "execution_count": 4,
   "id": "3dc610bb-3ab7-4119-b8fc-2c7ac929a669",
   "metadata": {},
   "outputs": [],
   "source": [
    "from sklearn.multiclass import OneVsRestClassifier\n",
    "from sklearn.tree import DecisionTreeClassifier\n",
    "\n",
    "model = DecisionTreeClassifier()\n",
    "\n",
    "ovr = OneVsRestClassifier(model)\n",
    "\n",
    "ovr.fit(X_train,y_train)\n",
    "\n",
    "y_pred = ovr.predict(X_test)"
   ]
  },
  {
   "cell_type": "code",
   "execution_count": 5,
   "id": "3deba3c8-0ca0-4cb6-8645-20260337eea4",
   "metadata": {},
   "outputs": [
    {
     "name": "stdout",
     "output_type": "stream",
     "text": [
      "              precision    recall  f1-score   support\n",
      "\n",
      "    BARBUNYA       0.95      0.82      0.88       331\n",
      "      BOMBAY       1.00      0.98      0.99       121\n",
      "        CALI       0.92      0.87      0.90       408\n",
      "    DERMASON       0.92      0.83      0.87       874\n",
      "       HOROZ       0.93      0.93      0.93       470\n",
      "       SEKER       0.95      0.92      0.93       513\n",
      "        SIRA       0.72      0.90      0.80       686\n",
      "\n",
      "    accuracy                           0.88      3403\n",
      "   macro avg       0.91      0.89      0.90      3403\n",
      "weighted avg       0.89      0.88      0.88      3403\n",
      "\n",
      "Confusion matrix:\n",
      "[[273   0  22   0   2   2  32]\n",
      " [  0 118   2   0   0   1   0]\n",
      " [ 10   0 355   0  18   1  24]\n",
      " [  0   0   0 727   4  16 127]\n",
      " [  1   0   3   5 435   0  26]\n",
      " [  2   0   0   9   0 473  29]\n",
      " [  0   0   2  49  10   6 619]]\n"
     ]
    }
   ],
   "source": [
    "from sklearn.metrics import classification_report\n",
    "from sklearn.metrics import confusion_matrix\n",
    "\n",
    "print(classification_report(y_test, y_pred))\n",
    "print('Confusion matrix:')\n",
    "print(confusion_matrix(y_test, y_pred))"
   ]
  },
  {
   "cell_type": "markdown",
   "id": "e653b8ae-344e-441e-bd29-213001c60afa",
   "metadata": {},
   "source": [
    "O grupo optou por fazer a própria implementação do método"
   ]
  },
  {
   "cell_type": "markdown",
   "id": "05ad1f2b-1af1-4da5-a9c4-c0a09c1f7460",
   "metadata": {},
   "source": [
    "Criação dos modelos"
   ]
  },
  {
   "cell_type": "code",
   "execution_count": 6,
   "id": "37b0fe4f-2118-4aa5-8aba-960068ae343b",
   "metadata": {},
   "outputs": [],
   "source": [
    "import numpy as np\n",
    "\n",
    "models = []\n",
    "\n",
    "for label in np.unique(y):\n",
    "    filter = lambda r:(1 if r == label else -1)\n",
    "    y_train_class = np.array([filter(row) for row in y_train])\n",
    "    y_test_class = np.array([filter(row) for row in y_test])\n",
    "\n",
    "    model = DecisionTreeClassifier()\n",
    "    model.fit(X_train,y_train_class)\n",
    "    models.append((model,label))"
   ]
  },
  {
   "cell_type": "markdown",
   "id": "fb30baad-a081-4e2b-a67b-a25779ded35b",
   "metadata": {},
   "source": [
    "Predição"
   ]
  },
  {
   "cell_type": "code",
   "execution_count": 7,
   "id": "08da25d8-81f0-425c-93a2-4ef2d7eab487",
   "metadata": {},
   "outputs": [],
   "source": [
    "y_pred = np.empty(len(y_test), dtype='O')\n",
    "max_prob = np.zeros(len(y_train))\n",
    "\n",
    "for model in models:\n",
    "    probability = model[0].predict_proba(X_test)[:,1]\n",
    "    for i,prob in enumerate(probability):\n",
    "        if max_prob[i] <= prob:\n",
    "            max_prob[i] = prob\n",
    "            y_pred[i] = model[1]"
   ]
  },
  {
   "cell_type": "markdown",
   "id": "04565f9a-66c1-418e-bca8-56a7ff27b653",
   "metadata": {},
   "source": [
    "Resultados"
   ]
  },
  {
   "cell_type": "code",
   "execution_count": 8,
   "id": "31ae1d7c-9aa2-49d4-93c9-7709c46ba302",
   "metadata": {},
   "outputs": [
    {
     "name": "stdout",
     "output_type": "stream",
     "text": [
      "              precision    recall  f1-score   support\n",
      "\n",
      "    BARBUNYA       0.95      0.82      0.88       331\n",
      "      BOMBAY       1.00      0.96      0.98       121\n",
      "        CALI       0.92      0.88      0.90       408\n",
      "    DERMASON       0.91      0.83      0.87       874\n",
      "       HOROZ       0.92      0.92      0.92       470\n",
      "       SEKER       0.96      0.92      0.94       513\n",
      "        SIRA       0.72      0.90      0.80       686\n",
      "\n",
      "    accuracy                           0.88      3403\n",
      "   macro avg       0.91      0.89      0.90      3403\n",
      "weighted avg       0.89      0.88      0.88      3403\n",
      "\n",
      "Confusion matrix:\n",
      "[[271   0  23   0   2   2  33]\n",
      " [  0 116   4   0   0   1   0]\n",
      " [ 11   0 357   0  22   1  17]\n",
      " [  0   0   0 723   4  12 135]\n",
      " [  1   0   4   6 431   0  28]\n",
      " [  1   0   0  10   0 474  28]\n",
      " [  1   0   1  52  10   5 617]]\n"
     ]
    }
   ],
   "source": [
    "print(classification_report(y_test, y_pred))\n",
    "print('Confusion matrix:')\n",
    "print(confusion_matrix(y_test, y_pred))"
   ]
  },
  {
   "cell_type": "markdown",
   "id": "7e571690-4f3d-459b-a7ee-8c25c7c38a89",
   "metadata": {},
   "source": [
    "Vamos criar funções para plotar as metricas de cada algoritmo"
   ]
  },
  {
   "cell_type": "code",
   "execution_count": 9,
   "id": "9a79d673-bb20-402f-868a-a525c9a0b1dd",
   "metadata": {},
   "outputs": [],
   "source": [
    "from sklearn.linear_model import LogisticRegression\n",
    "from sklearn.naive_bayes import GaussianNB\n",
    "from sklearn.neighbors import KNeighborsClassifier\n",
    "from sklearn.metrics import accuracy_score\n",
    "import matplotlib.pyplot as plt\n",
    "\n",
    "modelos = [\n",
    "    ('Decision Tree', DecisionTreeClassifier()),\n",
    "    ('KNN', KNeighborsClassifier(n_neighbors=5)),\n",
    "    ('Logistic Regression', LogisticRegression(max_iter=300)),\n",
    "    ('Naive Bayes', GaussianNB())\n",
    "]\n",
    "\n",
    "# Lista para armazenar as acurácias de cada modelo\n",
    "acuracias = []\n",
    "\n",
    "# Treine e avalie cada modelo\n",
    "for nome, modelo in modelos:\n",
    "    ovr = OneVsRestClassifier(modelo)\n",
    "    ovr.fit(X_train, y_train)\n",
    "    y_pred = ovr.predict(X_test)\n",
    "    acuracia = accuracy_score(y_test, y_pred)\n",
    "    acuracias.append((nome, acuracia))"
   ]
  },
  {
   "cell_type": "markdown",
   "id": "5bedfd4a-9fe6-4c29-986b-fa93dedb1d03",
   "metadata": {},
   "source": [
    "Vamos plotar"
   ]
  },
  {
   "cell_type": "code",
   "execution_count": 10,
   "id": "787dc79e-1d61-4506-b0b1-6e6c17a7dde9",
   "metadata": {},
   "outputs": [
    {
     "data": {
      "image/png": "[encoded data removed]",
      "text/plain": [
       "<Figure size 640x480 with 1 Axes>"
      ]
     },
     "metadata": {},
     "output_type": "display_data"
    }
   ],
   "source": [
    "nomes_modelos, valores_acuracia = zip(*acuracias)\n",
    "barras = plt.bar(nomes_modelos, valores_acuracia, color=['blue', 'green', 'red', 'black'])  # Adicione mais cores conforme necessário\n",
    "\n",
    "for barra in barras:\n",
    "        altura = barra.get_height()\n",
    "        plt.text(barra.get_x() + barra.get_width() / 2, altura + 0.02, f'{altura:.3f}', ha='center', va='bottom')\n",
    "plt.ylabel('Acurácia')\n",
    "plt.title('Comparação de Acurácia entre Modelos')\n",
    "plt.ylim(0, 1)  # Defina o limite y de 0 a 1 para a acurácia\n",
    "plt.show()"
   ]
  },
  {
   "cell_type": "markdown",
   "id": "ce1968aa-0b5c-4c57-9010-afb1a407a78f",
   "metadata": {},
   "source": [
    "## Método One versus One"
   ]
  },
  {
   "cell_type": "markdown",
   "id": "c6320f29-35cf-4fcd-b975-b7ddeeaf4b4b",
   "metadata": {},
   "source": [
    "### ADAG"
   ]
  },
  {
   "cell_type": "markdown",
   "id": "4b26e130-91b7-4fb0-a19a-7c27b15f5d25",
   "metadata": {},
   "source": [
    "O grupo implementou o ADAG"
   ]
  },
  {
   "cell_type": "markdown",
   "id": "dc0b45e9-307b-4da8-8d37-cfb80ace72b0",
   "metadata": {},
   "source": [
    "Variaveis"
   ]
  },
  {
   "cell_type": "code",
   "execution_count": 11,
   "id": "9b2c2f01-78cb-4bde-8d53-a443dd3c83c2",
   "metadata": {},
   "outputs": [],
   "source": [
    "class_array = np.unique(y)\n",
    "X_train_array = np.array(X_train)\n",
    "y_train_array = np.array(y_train)\n",
    "X_test_array = np.array(X_test)\n",
    "lables_data = []\n",
    "models = np.empty((len(class_array),len(class_array)), dtype='O')\n",
    "y_pred = np.empty(len(y_test), dtype='O')"
   ]
  },
  {
   "cell_type": "markdown",
   "id": "cc98415c-b7a7-4331-9758-82ccd39d5bf7",
   "metadata": {},
   "source": [
    "Separacao dos dados de cada classe"
   ]
  },
  {
   "cell_type": "code",
   "execution_count": 12,
   "id": "142347ef-1007-4831-aadc-dab2797b40e2",
   "metadata": {},
   "outputs": [],
   "source": [
    "for i,label in enumerate(class_array):\n",
    "    data = np.array([row for index,row in enumerate(X_train_array) if y_train_array[index] == label])\n",
    "    lables_data.append(data)"
   ]
  },
  {
   "cell_type": "markdown",
   "id": "6fa0cd9b-cc33-4f3e-bcbf-2122f7fba518",
   "metadata": {},
   "source": [
    "Função de criação dos modelos"
   ]
  },
  {
   "cell_type": "code",
   "execution_count": 13,
   "id": "b7c89ea8-4ba2-4964-a473-8ab4674c1ba8",
   "metadata": {},
   "outputs": [],
   "source": [
    "def createModels(class_array, class_algoritmo):\n",
    "\n",
    "    models = np.empty((len(class_array),len(class_array)), dtype='O')\n",
    "    \n",
    "    for i in range(len(class_array)):\n",
    "        for j in range(i+1,len(class_array)):\n",
    "            x_train_class = []\n",
    "            for row in lables_data[i]:\n",
    "                x_train_class.append(row)\n",
    "            for row in lables_data[j]:\n",
    "                x_train_class.append(row)\n",
    "\n",
    "\n",
    "            y_train_class = [1]*len(lables_data[i]) + [0]*len(lables_data[j])\n",
    "            model = ''\n",
    "            if class_algoritmo.__name__ == 'LogisticRegression':\n",
    "                model = class_algoritmo(max_iter=300)\n",
    "            else:\n",
    "                model = class_algoritmo()\n",
    "            model.fit(np.array(x_train_class),np.array(y_train_class))\n",
    "            models[i][j] = model\n",
    "            models[j][i] = -1\n",
    "\n",
    "    return models"
   ]
  },
  {
   "cell_type": "markdown",
   "id": "b5665c2f-e024-432e-bec5-98ded8e7f6ec",
   "metadata": {},
   "source": [
    "Função utlizada para gerar a ordem da primeira camada do ADAG"
   ]
  },
  {
   "cell_type": "code",
   "execution_count": 14,
   "id": "387c19bf-658a-466f-801b-086ba6acbbc2",
   "metadata": {},
   "outputs": [],
   "source": [
    "def initialLevel(n_labels):\n",
    "    first = 0\n",
    "    second = (n_labels - 1) - n_labels%2\n",
    "    level = []\n",
    "\n",
    "    while(first < second):\n",
    "        level.append(first)\n",
    "        level.append(second)\n",
    "        first+=1\n",
    "        second-=1\n",
    "\n",
    "    if n_labels%2 > 0:\n",
    "        level.append(n_labels-1)\n",
    "\n",
    "    return level\n"
   ]
  },
  {
   "cell_type": "markdown",
   "id": "74845d7b-76ec-4a78-87cc-0b69018faf82",
   "metadata": {},
   "source": [
    "Função de predição das classes"
   ]
  },
  {
   "cell_type": "code",
   "execution_count": 15,
   "id": "c09de19a-de8b-4d7b-a472-287edb763991",
   "metadata": {},
   "outputs": [],
   "source": [
    "import copy\n",
    "\n",
    "def predict(X_test_array, class_array, models):\n",
    "    y_pred = np.empty(len(X_test_array), dtype='O')\n",
    "\n",
    "    for i,row in enumerate(X_test_array):\n",
    "        levelLabels = initialLevel(len(class_array))\n",
    "\n",
    "        while len(levelLabels) != 1:\n",
    "            next_level = []\n",
    "\n",
    "            for idx in range(0,len(levelLabels)-1 - (len(levelLabels)%2),2):\n",
    "                first = min(levelLabels[idx],levelLabels[idx+1])\n",
    "                second = max(levelLabels[idx],levelLabels[idx+1])\n",
    "\n",
    "                predicao = models[first][second].predict([row])\n",
    "                if predicao[0] == 1:\n",
    "                    next_level.append(first)\n",
    "                else:\n",
    "                    next_level.append(second)\n",
    "\n",
    "            if len(levelLabels)%2 > 0:\n",
    "                next_level.append(levelLabels[len(levelLabels)-1])\n",
    "\n",
    "\n",
    "\n",
    "            levelLabels = copy.deepcopy(next_level)\n",
    "\n",
    "        y_pred[i] = class_array[levelLabels[0]]\n",
    "\n",
    "    return y_pred"
   ]
  },
  {
   "cell_type": "markdown",
   "id": "90c21477-0d00-44fe-896b-7cd60ed500c6",
   "metadata": {},
   "source": [
    "Resultados"
   ]
  },
  {
   "cell_type": "code",
   "execution_count": 16,
   "id": "80e520df-2b96-4d90-a4d8-a0411212d4d7",
   "metadata": {},
   "outputs": [
    {
     "name": "stdout",
     "output_type": "stream",
     "text": [
      "              precision    recall  f1-score   support\n",
      "\n",
      "    BARBUNYA       0.93      0.87      0.90       331\n",
      "      BOMBAY       1.00      1.00      1.00       121\n",
      "        CALI       0.89      0.93      0.91       408\n",
      "    DERMASON       0.91      0.93      0.92       874\n",
      "       HOROZ       0.92      0.94      0.93       470\n",
      "       SEKER       0.95      0.95      0.95       513\n",
      "        SIRA       0.87      0.84      0.86       686\n",
      "\n",
      "    accuracy                           0.91      3403\n",
      "   macro avg       0.92      0.92      0.92      3403\n",
      "weighted avg       0.91      0.91      0.91      3403\n",
      "\n",
      "Confusion matrix:\n",
      "[[287   0  31   0   3   1   9]\n",
      " [  0 121   0   0   0   0   0]\n",
      " [ 14   0 380   0  11   0   3]\n",
      " [  0   0   0 809   2  10  53]\n",
      " [  4   0  11   3 444   0   8]\n",
      " [  2   0   1  10   0 488  12]\n",
      " [  3   0   2  69  22  14 576]]\n"
     ]
    }
   ],
   "source": [
    "models = createModels(class_array,LogisticRegression)\n",
    "y_pred = predict(X_test_array,class_array,models)\n",
    "\n",
    "print(classification_report(y_test, y_pred))\n",
    "print('Confusion matrix:')\n",
    "print(confusion_matrix(y_test, y_pred))"
   ]
  },
  {
   "cell_type": "markdown",
   "id": "8739e492-e93d-42c4-a2ba-abc88ea9e7ef",
   "metadata": {},
   "source": [
    "Comparando a acuracia"
   ]
  },
  {
   "cell_type": "code",
   "execution_count": 17,
   "id": "89edcf74-add3-4b20-a95c-9af855e9efa4",
   "metadata": {},
   "outputs": [],
   "source": [
    "algoritmos = [\n",
    "    ('Decision Tree', DecisionTreeClassifier),\n",
    "    ('KNN', KNeighborsClassifier),\n",
    "    ('Logistic Regression', LogisticRegression),\n",
    "    ('Naive Bayes', GaussianNB)\n",
    "]\n",
    "\n",
    "acuracias = []\n",
    "\n",
    "for nome, algoritmo in algoritmos:\n",
    "    models = createModels(class_array,algoritmo)\n",
    "    y_pred = predict(X_test_array,class_array,models)\n",
    "    acuracia = accuracy_score(y_test, y_pred)\n",
    "    acuracias.append((nome, acuracia))"
   ]
  },
  {
   "cell_type": "markdown",
   "id": "29722fb6-6b40-4d6b-9684-b02849655c0f",
   "metadata": {},
   "source": [
    "Plotando"
   ]
  },
  {
   "cell_type": "code",
   "execution_count": 18,
   "id": "8d8a2b42-ef1a-42de-9886-8a781b6c4f92",
   "metadata": {},
   "outputs": [
    {
     "data": {
      "image/png": "[encoded data removed]",
      "text/plain": [
       "<Figure size 640x480 with 1 Axes>"
      ]
     },
     "metadata": {},
     "output_type": "display_data"
    }
   ],
   "source": [
    "nomes_modelos, valores_acuracia = zip(*acuracias)\n",
    "plt.bar(nomes_modelos, valores_acuracia, color=['blue', 'green', 'red', 'black'])  # Adicione mais cores conforme necessário\n",
    "\n",
    "barras = plt.bar(nomes_modelos, valores_acuracia, color=['blue', 'green', 'red', 'black'])  # Adicione mais cores conforme necessário\n",
    "\n",
    "for barra in barras:\n",
    "        altura = barra.get_height()\n",
    "        plt.text(barra.get_x() + barra.get_width() / 2, altura + 0.02, f'{altura:.3f}', ha='center', va='bottom')\n",
    "\n",
    "plt.ylabel('Acurácia')\n",
    "plt.title('Comparação de Acurácia entre Modelos')\n",
    "plt.ylim(0, 1)  # Defina o limite y de 0 a 1 para a acurácia\n",
    "plt.show()\n"
   ]
  },
  {
   "cell_type": "code",
   "execution_count": null,
   "id": "d2502475-f1e9-420e-88c8-b423b3b765fe",
   "metadata": {},
   "outputs": [],
   "source": []
  }
 ],
 "metadata": {
  "kernelspec": {
   "display_name": "Python 3 (ipykernel)",
   "language": "python",
   "name": "python3"
  },
  "language_info": {
   "codemirror_mode": {
    "name": "ipython",
    "version": 3
   },
   "file_extension": ".py",
   "mimetype": "text/x-python",
   "name": "python",
   "nbconvert_exporter": "python",
   "pygments_lexer": "ipython3",
   "version": "3.11.3"
  }
 },
 "nbformat": 4,
 "nbformat_minor": 5
}
