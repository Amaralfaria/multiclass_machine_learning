{
 "cells": [
  {
   "cell_type": "markdown",
   "id": "c5a8ae76-8e06-4919-ba8c-362ddebda265",
   "metadata": {},
   "source": [
    "# Classificação multiclasse"
   ]
  },
  {
   "cell_type": "markdown",
   "id": "a9676a03-168d-49c5-af69-7450deda2e92",
   "metadata": {},
   "source": [
    "Primeiramente devemos ler os nossos dados"
   ]
  },
  {
   "cell_type": "code",
   "execution_count": 5,
   "id": "b464b45c-13ca-42dc-985c-4560009d3a42",
   "metadata": {},
   "outputs": [
    {
     "name": "stdout",
     "output_type": "stream",
     "text": [
      "       Bean ID    Area  Perimeter  MajorAxisLength  MinorAxisLength  \\\n",
      "3536      3537  164326   1532.137       575.688180       366.351800   \n",
      "3946      3947   61204    953.807       376.089729       208.612182   \n",
      "11944    11945   32279    670.977       250.820564       164.181397   \n",
      "\n",
      "       AspectRation  Eccentricity  ConvexArea  EquivDiameter    Extent  \\\n",
      "3536       1.571408      0.771382      165918     457.412682  0.842464   \n",
      "3946       1.802818      0.832059       61712     279.154712  0.767150   \n",
      "11944      1.527704      0.755995       32662     202.728635  0.757190   \n",
      "\n",
      "       Solidity  roundness  Compactness  ShapeFactor1  ShapeFactor2  \\\n",
      "3536   0.990405   0.879672     0.794549      0.003503      0.000861   \n",
      "3946   0.991768   0.845412     0.742256      0.006145      0.001151   \n",
      "11944  0.988274   0.900979     0.808262      0.007770      0.002046   \n",
      "\n",
      "       ShapeFactor3  ShapeFactor4     Class  \n",
      "3536       0.631309      0.992044    BOMBAY  \n",
      "3946       0.550943      0.993250      CALI  \n",
      "11944      0.653287      0.998029  DERMASON  \n"
     ]
    }
   ],
   "source": [
    "import pandas as pd\n",
    "\n",
    "data_path = '../data/Dry_Bean_Dataset.xlsx'\n",
    "beans_data = pd.read_excel(data_path)\n",
    "\n",
    "sample = beans_data.sample(3)\n",
    "print(sample)"
   ]
  },
  {
   "cell_type": "code",
   "execution_count": 7,
   "id": "7c95c992-1c79-48e3-9e7d-de42d373ff47",
   "metadata": {},
   "outputs": [
    {
     "name": "stdout",
     "output_type": "stream",
     "text": [
      "        Area  Perimeter  MajorAxisLength  MinorAxisLength  AspectRation  \\\n",
      "10135  23459    556.684       200.293385       149.229973      1.342179   \n",
      "\n",
      "       Eccentricity  ConvexArea  EquivDiameter   Extent  Solidity  roundness  \\\n",
      "10135      0.667001       23690      172.82629  0.75772  0.990249   0.951266   \n",
      "\n",
      "       Compactness  ShapeFactor1  ShapeFactor2  ShapeFactor3  ShapeFactor4  \n",
      "10135     0.862866      0.008538       0.00292      0.744537      0.999302  \n"
     ]
    }
   ],
   "source": [
    "X = beans_data.iloc[:,1:-1]\n",
    "y = beans_data.Class\n",
    "\n",
    "print(X.sample(1))"
   ]
  },
  {
   "cell_type": "code",
   "execution_count": 9,
   "id": "1d8bb841-d6ef-474a-bb28-a46c3fecf2e9",
   "metadata": {},
   "outputs": [],
   "source": [
    "from sklearn.model_selection import train_test_split\n",
    "\n",
    "X_train, X_test, y_train, y_test = train_test_split(X, y, test_size=0.25, random_state=16)"
   ]
  },
  {
   "cell_type": "markdown",
   "id": "380499fd-08bd-4f3b-9f80-f2641a27976b",
   "metadata": {},
   "source": [
    "## Método One versus Rest"
   ]
  },
  {
   "cell_type": "code",
   "execution_count": 10,
   "id": "3dc610bb-3ab7-4119-b8fc-2c7ac929a669",
   "metadata": {},
   "outputs": [],
   "source": [
    "from sklearn.multiclass import OneVsRestClassifier\n",
    "from sklearn.tree import DecisionTreeClassifier\n",
    "\n",
    "model = DecisionTreeClassifier()\n",
    "\n",
    "ovr = OneVsRestClassifier(model)\n",
    "\n",
    "ovr.fit(X_train,y_train)\n",
    "\n",
    "y_pred = ovr.predict(X_test)"
   ]
  },
  {
   "cell_type": "code",
   "execution_count": 12,
   "id": "3deba3c8-0ca0-4cb6-8645-20260337eea4",
   "metadata": {},
   "outputs": [
    {
     "name": "stdout",
     "output_type": "stream",
     "text": [
      "              precision    recall  f1-score   support\n",
      "\n",
      "    BARBUNYA       0.96      0.82      0.88       331\n",
      "      BOMBAY       1.00      0.96      0.98       121\n",
      "        CALI       0.91      0.87      0.89       408\n",
      "    DERMASON       0.91      0.82      0.86       874\n",
      "       HOROZ       0.92      0.91      0.92       470\n",
      "       SEKER       0.95      0.93      0.94       513\n",
      "        SIRA       0.71      0.90      0.79       686\n",
      "\n",
      "    accuracy                           0.87      3403\n",
      "   macro avg       0.91      0.89      0.89      3403\n",
      "weighted avg       0.89      0.87      0.88      3403\n",
      "\n",
      "Confusion matrix:\n",
      "[[270   0  25   0   2   2  32]\n",
      " [  0 116   4   0   0   1   0]\n",
      " [  9   0 354   0  21   1  23]\n",
      " [  0   0   0 715   4  15 140]\n",
      " [  1   0   4   6 430   0  29]\n",
      " [  2   0   0   8   0 476  27]\n",
      " [  0   0   1  53   9   7 616]]\n"
     ]
    }
   ],
   "source": [
    "from sklearn.metrics import classification_report\n",
    "from sklearn.metrics import confusion_matrix\n",
    "\n",
    "print(classification_report(y_test, y_pred))\n",
    "print('Confusion matrix:')\n",
    "print(confusion_matrix(y_test, y_pred))"
   ]
  },
  {
   "cell_type": "markdown",
   "id": "e653b8ae-344e-441e-bd29-213001c60afa",
   "metadata": {},
   "source": [
    "O grupo optou por fazer a própria implementação do método"
   ]
  },
  {
   "cell_type": "markdown",
   "id": "05ad1f2b-1af1-4da5-a9c4-c0a09c1f7460",
   "metadata": {},
   "source": [
    "Criação dos modelos"
   ]
  },
  {
   "cell_type": "code",
   "execution_count": 34,
   "id": "37b0fe4f-2118-4aa5-8aba-960068ae343b",
   "metadata": {},
   "outputs": [],
   "source": [
    "import numpy as np\n",
    "\n",
    "models = []\n",
    "\n",
    "for label in np.unique(y):\n",
    "    filter = lambda r:(1 if r == label else -1)\n",
    "    y_train_class = np.array([filter(row) for row in y_train])\n",
    "    y_test_class = np.array([filter(row) for row in y_test])\n",
    "\n",
    "    model = DecisionTreeClassifier()\n",
    "    model.fit(X_train,y_train_class)\n",
    "    models.append((model,label))"
   ]
  },
  {
   "cell_type": "markdown",
   "id": "fb30baad-a081-4e2b-a67b-a25779ded35b",
   "metadata": {},
   "source": [
    "Predição"
   ]
  },
  {
   "cell_type": "code",
   "execution_count": 35,
   "id": "08da25d8-81f0-425c-93a2-4ef2d7eab487",
   "metadata": {},
   "outputs": [],
   "source": [
    "y_pred = np.empty(len(y_test), dtype='O')\n",
    "max_prob = np.zeros(len(y_train))\n",
    "\n",
    "for model in models:\n",
    "    probability = model[0].predict_proba(X_test)[:,1]\n",
    "    for i,prob in enumerate(probability):\n",
    "        if max_prob[i] <= prob:\n",
    "            max_prob[i] = prob\n",
    "            y_pred[i] = model[1]"
   ]
  },
  {
   "cell_type": "markdown",
   "id": "04565f9a-66c1-418e-bca8-56a7ff27b653",
   "metadata": {},
   "source": [
    "Resultados"
   ]
  },
  {
   "cell_type": "code",
   "execution_count": 36,
   "id": "31ae1d7c-9aa2-49d4-93c9-7709c46ba302",
   "metadata": {},
   "outputs": [
    {
     "name": "stdout",
     "output_type": "stream",
     "text": [
      "              precision    recall  f1-score   support\n",
      "\n",
      "    BARBUNYA       0.95      0.81      0.88       331\n",
      "      BOMBAY       1.00      0.98      0.99       121\n",
      "        CALI       0.92      0.88      0.90       408\n",
      "    DERMASON       0.91      0.82      0.86       874\n",
      "       HOROZ       0.92      0.92      0.92       470\n",
      "       SEKER       0.94      0.93      0.94       513\n",
      "        SIRA       0.72      0.89      0.80       686\n",
      "\n",
      "    accuracy                           0.88      3403\n",
      "   macro avg       0.91      0.89      0.90      3403\n",
      "weighted avg       0.89      0.88      0.88      3403\n",
      "\n",
      "Confusion matrix:\n",
      "[[269   0  23   0   3   3  33]\n",
      " [  0 118   2   0   0   1   0]\n",
      " [  9   0 357   0  20   1  21]\n",
      " [  0   0   0 719   4  16 135]\n",
      " [  0   0   6   7 434   0  23]\n",
      " [  2   0   0   8   0 477  26]\n",
      " [  2   0   1  55   9   7 612]]\n"
     ]
    }
   ],
   "source": [
    "print(classification_report(y_test, y_pred))\n",
    "print('Confusion matrix:')\n",
    "print(confusion_matrix(y_test, y_pred))"
   ]
  },
  {
   "cell_type": "markdown",
   "id": "7e571690-4f3d-459b-a7ee-8c25c7c38a89",
   "metadata": {},
   "source": [
    "Testar acuracia de varios modelos"
   ]
  },
  {
   "cell_type": "code",
   "execution_count": 39,
   "id": "9a79d673-bb20-402f-868a-a525c9a0b1dd",
   "metadata": {},
   "outputs": [],
   "source": [
    "from sklearn.linear_model import LogisticRegression\n",
    "from sklearn.naive_bayes import GaussianNB\n",
    "from sklearn.neighbors import KNeighborsClassifier\n",
    "from sklearn.metrics import accuracy_score\n",
    "\n",
    "modelos = [\n",
    "    ('Decision Tree', DecisionTreeClassifier()),\n",
    "    ('KNN', KNeighborsClassifier(n_neighbors=5)),\n",
    "    ('Logistic Regression', LogisticRegression(max_iter=300)),\n",
    "    ('Naive Bayes', GaussianNB())\n",
    "]\n",
    "\n",
    "\n",
    "acuracias = []\n",
    "\n",
    "\n",
    "for nome, modelo in modelos:\n",
    "    ovr = OneVsRestClassifier(modelo)\n",
    "    ovr.fit(X_train, y_train)\n",
    "    y_pred = ovr.predict(X_test)\n",
    "    acuracia = accuracy_score(y_test, y_pred)\n",
    "    acuracias.append((nome, acuracia))"
   ]
  },
  {
   "cell_type": "markdown",
   "id": "5bedfd4a-9fe6-4c29-986b-fa93dedb1d03",
   "metadata": {},
   "source": [
    "Vamos plotar"
   ]
  },
  {
   "cell_type": "code",
   "execution_count": 41,
   "id": "787dc79e-1d61-4506-b0b1-6e6c17a7dde9",
   "metadata": {},
   "outputs": [
    {
     "data": {
      "image/png": "[encoded data removed]",
      "text/plain": [
       "<Figure size 640x480 with 1 Axes>"
      ]
     },
     "metadata": {},
     "output_type": "display_data"
    }
   ],
   "source": [
    "import matplotlib.pyplot as plt\n",
    "\n",
    "nomes_modelos, valores_acuracia = zip(*acuracias)\n",
    "plt.bar(nomes_modelos, valores_acuracia, color=['blue', 'green', 'red', 'black'])  # Adicione mais cores conforme necessário\n",
    "plt.ylabel('Acurácia')\n",
    "plt.title('Comparação de Acurácia entre Modelos')\n",
    "plt.ylim(0, 1)  # Defina o limite y de 0 a 1 para a acurácia\n",
    "plt.show()\n"
   ]
  },
  {
   "cell_type": "code",
   "execution_count": null,
   "id": "27839309-b0e0-4e02-8a53-36b2dd28eef3",
   "metadata": {},
   "outputs": [],
   "source": []
  }
 ],
 "metadata": {
  "kernelspec": {
   "display_name": "Python 3 (ipykernel)",
   "language": "python",
   "name": "python3"
  },
  "language_info": {
   "codemirror_mode": {
    "name": "ipython",
    "version": 3
   },
   "file_extension": ".py",
   "mimetype": "text/x-python",
   "name": "python",
   "nbconvert_exporter": "python",
   "pygments_lexer": "ipython3",
   "version": "3.11.3"
  }
 },
 "nbformat": 4,
 "nbformat_minor": 5
}
