{
 "cells": [
  {
   "cell_type": "markdown",
   "id": "c5a8ae76-8e06-4919-ba8c-362ddebda265",
   "metadata": {},
   "source": [
    "# Classificação multiclasse"
   ]
  },
  {
   "cell_type": "markdown",
   "id": "a9676a03-168d-49c5-af69-7450deda2e92",
   "metadata": {},
   "source": [
    "Para realizar nossos experimentos escolhemos uma base de dados de feijões secos, a qual possui 7 classes distintas"
   ]
  },
  {
   "cell_type": "code",
   "execution_count": 1,
   "id": "b464b45c-13ca-42dc-985c-4560009d3a42",
   "metadata": {},
   "outputs": [
    {
     "name": "stdout",
     "output_type": "stream",
     "text": [
      "       Bean ID   Area  Perimeter  MajorAxisLength  MinorAxisLength  \\\n",
      "12632    12633  35168    698.453       250.556503       179.747876   \n",
      "9031      9032  45849    803.351       300.558016       195.158812   \n",
      "12321    12322  33796    689.612       257.021439       167.856611   \n",
      "\n",
      "       AspectRation  Eccentricity  ConvexArea  EquivDiameter    Extent  \\\n",
      "12632      1.393933      0.696667       35615     211.606447  0.712624   \n",
      "9031       1.540069      0.760514       46301     241.612831  0.700894   \n",
      "12321      1.531196      0.757285       34210     207.437710  0.696581   \n",
      "\n",
      "       Solidity  roundness  Compactness  ShapeFactor1  ShapeFactor2  \\\n",
      "12632  0.987449   0.905906     0.844546      0.007125      0.002236   \n",
      "9031   0.990238   0.892748     0.803881      0.006555      0.001689   \n",
      "12321  0.987898   0.893029     0.807083      0.007605      0.001990   \n",
      "\n",
      "       ShapeFactor3  ShapeFactor4     Class  \n",
      "12632      0.713258      0.994233  DERMASON  \n",
      "9031       0.646224      0.995230      SIRA  \n",
      "12321      0.651383      0.997396  DERMASON  \n"
     ]
    }
   ],
   "source": [
    "import pandas as pd\n",
    "\n",
    "data_path = '../data/Dry_Bean_Dataset.xlsx'\n",
    "beans_data = pd.read_excel(data_path)\n",
    "\n",
    "sample = beans_data.sample(3)\n",
    "print(sample)"
   ]
  },
  {
   "cell_type": "markdown",
   "id": "c851e00e-c355-4475-9a7f-d866cd531316",
   "metadata": {},
   "source": [
    "Devemos tirar todos os atributos da base que são considerados irrelevantes. Nesse caso, retiramos Beans ID. "
   ]
  },
  {
   "cell_type": "code",
   "execution_count": 2,
   "id": "7c95c992-1c79-48e3-9e7d-de42d373ff47",
   "metadata": {},
   "outputs": [
    {
     "name": "stdout",
     "output_type": "stream",
     "text": [
      "       Area  Perimeter  MajorAxisLength  MinorAxisLength  AspectRation  \\\n",
      "5052  80507   1078.504       423.370841        243.36674      1.739641   \n",
      "\n",
      "      Eccentricity  ConvexArea  EquivDiameter    Extent  Solidity  roundness  \\\n",
      "5052      0.818272       81055     320.163546  0.774299  0.993239   0.869761   \n",
      "\n",
      "      Compactness  ShapeFactor1  ShapeFactor2  ShapeFactor3  ShapeFactor4  \n",
      "5052     0.756225      0.005259      0.001061      0.571876      0.994859  \n"
     ]
    }
   ],
   "source": [
    "X = beans_data.iloc[:,1:-1]\n",
    "y = beans_data.Class\n",
    "\n",
    "print(X.sample(1))"
   ]
  },
  {
   "cell_type": "markdown",
   "id": "087f6c9c-f49d-4ca2-bb29-83bbcf28e81b",
   "metadata": {},
   "source": [
    "Após ler nossos dados, precisamos dividi-los em dados de teste e dados de treinamento. Além disso, também vamos normalizar os nossos dados"
   ]
  },
  {
   "cell_type": "code",
   "execution_count": 3,
   "id": "7e20c37e-7f5e-4203-8e0c-56d33c1d8531",
   "metadata": {},
   "outputs": [],
   "source": [
    "from sklearn.model_selection import train_test_split\n",
    "from sklearn.preprocessing import StandardScaler\n",
    "\n",
    "X_train, X_test, y_train, y_test = train_test_split(X, y, test_size=0.25, random_state=16)\n",
    "\n",
    "scaler = StandardScaler()\n",
    "X_train = scaler.fit_transform(X_train)\n",
    "X_test = scaler.transform(X_test)"
   ]
  },
  {
   "cell_type": "markdown",
   "id": "380499fd-08bd-4f3b-9f80-f2641a27976b",
   "metadata": {},
   "source": [
    "## Método One versus Rest"
   ]
  },
  {
   "cell_type": "markdown",
   "id": "f25a4814-9d6e-4c2b-8ad1-81ba1b91231a",
   "metadata": {},
   "source": [
    "Primeiramente o grupo testou o classificador OneVsRestClassifier da biblioteca sklearn"
   ]
  },
  {
   "cell_type": "code",
   "execution_count": 4,
   "id": "3dc610bb-3ab7-4119-b8fc-2c7ac929a669",
   "metadata": {},
   "outputs": [],
   "source": [
    "from sklearn.multiclass import OneVsRestClassifier\n",
    "from sklearn.neighbors import KNeighborsClassifier\n",
    "\n",
    "model = KNeighborsClassifier(n_neighbors=13)\n",
    "\n",
    "ovr = OneVsRestClassifier(model)\n",
    "\n",
    "ovr.fit(X_train,y_train)\n",
    "\n",
    "y_pred = ovr.predict(X_test)"
   ]
  },
  {
   "cell_type": "markdown",
   "id": "556d5e88-200e-4057-a965-de80c459134d",
   "metadata": {},
   "source": [
    "Mostrando os resultados do modelo"
   ]
  },
  {
   "cell_type": "code",
   "execution_count": 5,
   "id": "3deba3c8-0ca0-4cb6-8645-20260337eea4",
   "metadata": {},
   "outputs": [
    {
     "name": "stdout",
     "output_type": "stream",
     "text": [
      "              precision    recall  f1-score   support\n",
      "\n",
      "    BARBUNYA       0.95      0.86      0.90       331\n",
      "      BOMBAY       1.00      1.00      1.00       121\n",
      "        CALI       0.90      0.96      0.93       408\n",
      "    DERMASON       0.92      0.93      0.92       874\n",
      "       HOROZ       0.94      0.94      0.94       470\n",
      "       SEKER       0.96      0.96      0.96       513\n",
      "        SIRA       0.87      0.87      0.87       686\n",
      "\n",
      "    accuracy                           0.92      3403\n",
      "   macro avg       0.93      0.93      0.93      3403\n",
      "weighted avg       0.92      0.92      0.92      3403\n",
      "\n",
      "Confusion matrix:\n",
      "[[285   0  28   0   3   2  13]\n",
      " [  0 121   0   0   0   0   0]\n",
      " [  8   0 390   0   7   0   3]\n",
      " [  0   0   0 809   0  14  51]\n",
      " [  1   0  13   2 442   0  12]\n",
      " [  2   0   0   8   0 491  12]\n",
      " [  3   0   0  65  16   6 596]]\n"
     ]
    }
   ],
   "source": [
    "from sklearn.metrics import classification_report\n",
    "from sklearn.metrics import confusion_matrix\n",
    "\n",
    "print(classification_report(y_test, y_pred))\n",
    "print('Confusion matrix:')\n",
    "print(confusion_matrix(y_test, y_pred))"
   ]
  },
  {
   "cell_type": "markdown",
   "id": "e653b8ae-344e-441e-bd29-213001c60afa",
   "metadata": {},
   "source": [
    "O grupo optou por fazer a própria implementação do método"
   ]
  },
  {
   "cell_type": "markdown",
   "id": "05ad1f2b-1af1-4da5-a9c4-c0a09c1f7460",
   "metadata": {},
   "source": [
    "Criação dos modelos"
   ]
  },
  {
   "cell_type": "code",
   "execution_count": 6,
   "id": "37b0fe4f-2118-4aa5-8aba-960068ae343b",
   "metadata": {},
   "outputs": [],
   "source": [
    "import numpy as np\n",
    "\n",
    "models = []\n",
    "\n",
    "for label in np.unique(y):\n",
    "    filter = lambda r:(1 if r == label else -1)\n",
    "    y_train_class = np.array([filter(row) for row in y_train])\n",
    "    y_test_class = np.array([filter(row) for row in y_test])\n",
    "\n",
    "    model = KNeighborsClassifier(n_neighbors=13)\n",
    "    model.fit(X_train,y_train_class)\n",
    "    models.append((model,label))"
   ]
  },
  {
   "cell_type": "markdown",
   "id": "fb30baad-a081-4e2b-a67b-a25779ded35b",
   "metadata": {},
   "source": [
    "Predição"
   ]
  },
  {
   "cell_type": "code",
   "execution_count": 7,
   "id": "08da25d8-81f0-425c-93a2-4ef2d7eab487",
   "metadata": {},
   "outputs": [],
   "source": [
    "y_pred = np.empty(len(y_test), dtype='O')\n",
    "max_prob = np.zeros(len(y_train))\n",
    "\n",
    "for model in models:\n",
    "    probability = model[0].predict_proba(X_test)[:,1]\n",
    "    for i,prob in enumerate(probability):\n",
    "        if max_prob[i] <= prob:\n",
    "            max_prob[i] = prob\n",
    "            y_pred[i] = model[1]"
   ]
  },
  {
   "cell_type": "markdown",
   "id": "04565f9a-66c1-418e-bca8-56a7ff27b653",
   "metadata": {},
   "source": [
    "Resultados"
   ]
  },
  {
   "cell_type": "code",
   "execution_count": 8,
   "id": "31ae1d7c-9aa2-49d4-93c9-7709c46ba302",
   "metadata": {},
   "outputs": [
    {
     "name": "stdout",
     "output_type": "stream",
     "text": [
      "              precision    recall  f1-score   support\n",
      "\n",
      "    BARBUNYA       0.95      0.86      0.90       331\n",
      "      BOMBAY       1.00      1.00      1.00       121\n",
      "        CALI       0.90      0.96      0.93       408\n",
      "    DERMASON       0.92      0.93      0.92       874\n",
      "       HOROZ       0.94      0.94      0.94       470\n",
      "       SEKER       0.96      0.96      0.96       513\n",
      "        SIRA       0.87      0.87      0.87       686\n",
      "\n",
      "    accuracy                           0.92      3403\n",
      "   macro avg       0.93      0.93      0.93      3403\n",
      "weighted avg       0.92      0.92      0.92      3403\n",
      "\n",
      "Confusion matrix:\n",
      "[[285   0  28   0   3   2  13]\n",
      " [  0 121   0   0   0   0   0]\n",
      " [  8   0 390   0   7   0   3]\n",
      " [  0   0   0 809   0  14  51]\n",
      " [  1   0  13   2 442   0  12]\n",
      " [  2   0   0   8   0 491  12]\n",
      " [  3   0   0  65  16   6 596]]\n"
     ]
    }
   ],
   "source": [
    "print(classification_report(y_test, y_pred))\n",
    "print('Confusion matrix:')\n",
    "print(confusion_matrix(y_test, y_pred))"
   ]
  },
  {
   "cell_type": "markdown",
   "id": "cb6caf3a-20b9-42ff-9d11-f45867d4ae91",
   "metadata": {},
   "source": [
    "Vamos testar o algoritmo com tipos diferentes de modelos"
   ]
  },
  {
   "cell_type": "code",
   "execution_count": 9,
   "id": "9a79d673-bb20-402f-868a-a525c9a0b1dd",
   "metadata": {},
   "outputs": [],
   "source": [
    "from sklearn.linear_model import LogisticRegression\n",
    "from sklearn.naive_bayes import GaussianNB\n",
    "from sklearn.neighbors import KNeighborsClassifier\n",
    "from sklearn.tree import DecisionTreeClassifier\n",
    "from sklearn.metrics import accuracy_score\n",
    "\n",
    "\n",
    "modelos = [\n",
    "    ('Decision Tree', DecisionTreeClassifier()),\n",
    "    ('KNN', KNeighborsClassifier(n_neighbors=13)),\n",
    "    ('Logistic Regression', LogisticRegression(max_iter=300)),\n",
    "    ('Naive Bayes', GaussianNB())\n",
    "]\n",
    "\n",
    "# Lista para armazenar as acurácias de cada modelo\n",
    "acuracias = []\n",
    "\n",
    "# Treine e avalie cada modelo\n",
    "for nome, modelo in modelos:\n",
    "    ovr = OneVsRestClassifier(modelo)\n",
    "    ovr.fit(X_train, y_train)\n",
    "    y_pred = ovr.predict(X_test)\n",
    "    acuracia = accuracy_score(y_test, y_pred)\n",
    "    acuracias.append((nome, acuracia))"
   ]
  },
  {
   "cell_type": "markdown",
   "id": "5bedfd4a-9fe6-4c29-986b-fa93dedb1d03",
   "metadata": {},
   "source": [
    "Vamos plotar o resultado"
   ]
  },
  {
   "cell_type": "code",
   "execution_count": 10,
   "id": "787dc79e-1d61-4506-b0b1-6e6c17a7dde9",
   "metadata": {},
   "outputs": [
    {
     "data": {
      "image/png": "[encoded data removed]",
      "text/plain": [
       "<Figure size 640x480 with 1 Axes>"
      ]
     },
     "metadata": {},
     "output_type": "display_data"
    }
   ],
   "source": [
    "import matplotlib.pyplot as plt\n",
    "\n",
    "nomes_modelos, valores_acuracia = zip(*acuracias)\n",
    "barras = plt.bar(nomes_modelos, valores_acuracia, color=['blue', 'green', 'red', 'black'])  # Adicione mais cores conforme necessário\n",
    "\n",
    "for barra in barras:\n",
    "        altura = barra.get_height()\n",
    "        plt.text(barra.get_x() + barra.get_width() / 2, altura + 0.02, f'{altura:.3f}', ha='center', va='bottom')\n",
    "plt.ylabel('Acurácia')\n",
    "plt.title('Comparação de Acurácia entre Modelos')\n",
    "plt.ylim(0, 1)  # Defina o limite y de 0 a 1 para a acurácia\n",
    "plt.show()"
   ]
  },
  {
   "cell_type": "markdown",
   "id": "ce1968aa-0b5c-4c57-9010-afb1a407a78f",
   "metadata": {},
   "source": [
    "## Método One versus One"
   ]
  },
  {
   "cell_type": "markdown",
   "id": "c6320f29-35cf-4fcd-b975-b7ddeeaf4b4b",
   "metadata": {},
   "source": [
    "### Adaptive Directed Acyclic Graph "
   ]
  },
  {
   "cell_type": "markdown",
   "id": "4b26e130-91b7-4fb0-a19a-7c27b15f5d25",
   "metadata": {},
   "source": [
    "O grupo implementou não encontrou uma biblioteca que implementasse o ADAG, logo optamos por implementa-lo"
   ]
  },
  {
   "cell_type": "markdown",
   "id": "dc0b45e9-307b-4da8-8d37-cfb80ace72b0",
   "metadata": {},
   "source": [
    "Variaveis"
   ]
  },
  {
   "cell_type": "code",
   "execution_count": 11,
   "id": "9b2c2f01-78cb-4bde-8d53-a443dd3c83c2",
   "metadata": {},
   "outputs": [],
   "source": [
    "class_array = np.unique(y)\n",
    "X_train_array = np.array(X_train)\n",
    "y_train_array = np.array(y_train)\n",
    "X_test_array = np.array(X_test)\n",
    "lables_data = []\n",
    "models = np.empty((len(class_array),len(class_array)), dtype='O')\n",
    "y_pred = np.empty(len(y_test), dtype='O')"
   ]
  },
  {
   "cell_type": "markdown",
   "id": "cc98415c-b7a7-4331-9758-82ccd39d5bf7",
   "metadata": {},
   "source": [
    "Separação dos dados de cada classe"
   ]
  },
  {
   "cell_type": "code",
   "execution_count": 12,
   "id": "142347ef-1007-4831-aadc-dab2797b40e2",
   "metadata": {},
   "outputs": [],
   "source": [
    "for i,label in enumerate(class_array):\n",
    "    data = np.array([row for index,row in enumerate(X_train_array) if y_train_array[index] == label])\n",
    "    lables_data.append(data)"
   ]
  },
  {
   "cell_type": "markdown",
   "id": "6fa0cd9b-cc33-4f3e-bcbf-2122f7fba518",
   "metadata": {},
   "source": [
    "Função de criação dos modelos"
   ]
  },
  {
   "cell_type": "code",
   "execution_count": 13,
   "id": "b7c89ea8-4ba2-4964-a473-8ab4674c1ba8",
   "metadata": {},
   "outputs": [],
   "source": [
    "def createModels(class_array, model):\n",
    "\n",
    "    models = np.empty((len(class_array),len(class_array)), dtype='O')\n",
    "    \n",
    "    for i in range(len(class_array)):\n",
    "        for j in range(i+1,len(class_array)):\n",
    "            x_train_class = []\n",
    "            for row in lables_data[i]:\n",
    "                x_train_class.append(row)\n",
    "            for row in lables_data[j]:\n",
    "                x_train_class.append(row)\n",
    "\n",
    "\n",
    "            y_train_class = [1]*len(lables_data[i]) + [0]*len(lables_data[j])\n",
    "            model = copy.deepcopy(model)\n",
    "            model.fit(np.array(x_train_class),np.array(y_train_class))\n",
    "            models[i][j] = model\n",
    "            models[j][i] = -1\n",
    "\n",
    "    return models"
   ]
  },
  {
   "cell_type": "markdown",
   "id": "b5665c2f-e024-432e-bec5-98ded8e7f6ec",
   "metadata": {},
   "source": [
    "Função utlizada para gerar a ordem da primeira camada do ADAG"
   ]
  },
  {
   "cell_type": "code",
   "execution_count": 14,
   "id": "387c19bf-658a-466f-801b-086ba6acbbc2",
   "metadata": {},
   "outputs": [],
   "source": [
    "def initialLevel(n_labels):\n",
    "    first = 0\n",
    "    second = (n_labels - 1) - n_labels%2\n",
    "    level = []\n",
    "\n",
    "    while(first < second):\n",
    "        level.append(first)\n",
    "        level.append(second)\n",
    "        first+=1\n",
    "        second-=1\n",
    "\n",
    "    if n_labels%2 > 0:\n",
    "        level.append(n_labels-1)\n",
    "\n",
    "    return level\n"
   ]
  },
  {
   "cell_type": "markdown",
   "id": "74845d7b-76ec-4a78-87cc-0b69018faf82",
   "metadata": {},
   "source": [
    "Função de predição das classes"
   ]
  },
  {
   "cell_type": "code",
   "execution_count": 15,
   "id": "c09de19a-de8b-4d7b-a472-287edb763991",
   "metadata": {},
   "outputs": [],
   "source": [
    "import copy\n",
    "\n",
    "def predict(X_test_array, class_array, models):\n",
    "    y_pred = np.empty(len(X_test_array), dtype='O')\n",
    "\n",
    "    for i,row in enumerate(X_test_array):\n",
    "        levelLabels = initialLevel(len(class_array))\n",
    "\n",
    "        while len(levelLabels) != 1:\n",
    "            next_level = []\n",
    "\n",
    "            for idx in range(0,len(levelLabels)-1 - (len(levelLabels)%2),2):\n",
    "                first = min(levelLabels[idx],levelLabels[idx+1])\n",
    "                second = max(levelLabels[idx],levelLabels[idx+1])\n",
    "\n",
    "                predicao = models[first][second].predict([row])\n",
    "                if predicao[0] == 1:\n",
    "                    next_level.append(first)\n",
    "                else:\n",
    "                    next_level.append(second)\n",
    "\n",
    "            if len(levelLabels)%2 > 0:\n",
    "                next_level.append(levelLabels[len(levelLabels)-1])\n",
    "\n",
    "\n",
    "\n",
    "            levelLabels = copy.deepcopy(next_level)\n",
    "\n",
    "        y_pred[i] = class_array[levelLabels[0]]\n",
    "\n",
    "    return y_pred"
   ]
  },
  {
   "cell_type": "markdown",
   "id": "90c21477-0d00-44fe-896b-7cd60ed500c6",
   "metadata": {},
   "source": [
    "Resultados"
   ]
  },
  {
   "cell_type": "code",
   "execution_count": 16,
   "id": "80e520df-2b96-4d90-a4d8-a0411212d4d7",
   "metadata": {},
   "outputs": [
    {
     "name": "stdout",
     "output_type": "stream",
     "text": [
      "              precision    recall  f1-score   support\n",
      "\n",
      "    BARBUNYA       0.93      0.89      0.91       331\n",
      "      BOMBAY       1.00      1.00      1.00       121\n",
      "        CALI       0.92      0.95      0.93       408\n",
      "    DERMASON       0.91      0.93      0.92       874\n",
      "       HOROZ       0.94      0.95      0.95       470\n",
      "       SEKER       0.96      0.96      0.96       513\n",
      "        SIRA       0.88      0.86      0.87       686\n",
      "\n",
      "    accuracy                           0.92      3403\n",
      "   macro avg       0.93      0.93      0.93      3403\n",
      "weighted avg       0.92      0.92      0.92      3403\n",
      "\n",
      "Confusion matrix:\n",
      "[[295   0  23   0   2   1  10]\n",
      " [  0 121   0   0   0   0   0]\n",
      " [ 12   0 386   0   7   1   2]\n",
      " [  1   0   0 812   0   9  52]\n",
      " [  1   0  10   4 447   0   8]\n",
      " [  5   0   0   8   0 490  10]\n",
      " [  2   0   0  68  19   9 588]]\n"
     ]
    }
   ],
   "source": [
    "models = createModels(class_array,LogisticRegression(max_iter=300))\n",
    "y_pred = predict(X_test_array,class_array,models)\n",
    "\n",
    "print(classification_report(y_test, y_pred))\n",
    "print('Confusion matrix:')\n",
    "print(confusion_matrix(y_test, y_pred))"
   ]
  },
  {
   "cell_type": "markdown",
   "id": "8739e492-e93d-42c4-a2ba-abc88ea9e7ef",
   "metadata": {},
   "source": [
    "Comparando a acuracia"
   ]
  },
  {
   "cell_type": "code",
   "execution_count": 17,
   "id": "89edcf74-add3-4b20-a95c-9af855e9efa4",
   "metadata": {},
   "outputs": [],
   "source": [
    "algoritmos = [\n",
    "    ('Decision Tree', DecisionTreeClassifier()),\n",
    "    ('KNN', KNeighborsClassifier(n_neighbors=13)),\n",
    "    ('Logistic Regression', LogisticRegression()),\n",
    "    ('Naive Bayes', GaussianNB())\n",
    "]\n",
    "\n",
    "acuracias = []\n",
    "\n",
    "for nome, algoritmo in algoritmos:\n",
    "    models = createModels(class_array,algoritmo)\n",
    "    y_pred = predict(X_test_array,class_array,models)\n",
    "    acuracia = accuracy_score(y_test, y_pred)\n",
    "    acuracias.append((nome, acuracia))"
   ]
  },
  {
   "cell_type": "markdown",
   "id": "29722fb6-6b40-4d6b-9684-b02849655c0f",
   "metadata": {},
   "source": [
    "Plotando"
   ]
  },
  {
   "cell_type": "code",
   "execution_count": 18,
   "id": "8d8a2b42-ef1a-42de-9886-8a781b6c4f92",
   "metadata": {},
   "outputs": [
    {
     "data": {
      "image/png": "[encoded data removed]",
      "text/plain": [
       "<Figure size 640x480 with 1 Axes>"
      ]
     },
     "metadata": {},
     "output_type": "display_data"
    }
   ],
   "source": [
    "nomes_modelos, valores_acuracia = zip(*acuracias)\n",
    "plt.bar(nomes_modelos, valores_acuracia, color=['blue', 'green', 'red', 'black'])  # Adicione mais cores conforme necessário\n",
    "\n",
    "barras = plt.bar(nomes_modelos, valores_acuracia, color=['blue', 'green', 'red', 'black'])  # Adicione mais cores conforme necessário\n",
    "\n",
    "for barra in barras:\n",
    "        altura = barra.get_height()\n",
    "        plt.text(barra.get_x() + barra.get_width() / 2, altura + 0.02, f'{altura:.3f}', ha='center', va='bottom')\n",
    "\n",
    "plt.ylabel('Acurácia')\n",
    "plt.title('Comparação de Acurácia entre Modelos')\n",
    "plt.ylim(0, 1)  # Defina o limite y de 0 a 1 para a acurácia\n",
    "plt.show()\n"
   ]
  },
  {
   "cell_type": "code",
   "execution_count": null,
   "id": "d2502475-f1e9-420e-88c8-b423b3b765fe",
   "metadata": {},
   "outputs": [],
   "source": []
  }
 ],
 "metadata": {
  "kernelspec": {
   "display_name": "Python 3 (ipykernel)",
   "language": "python",
   "name": "python3"
  },
  "language_info": {
   "codemirror_mode": {
    "name": "ipython",
    "version": 3
   },
   "file_extension": ".py",
   "mimetype": "text/x-python",
   "name": "python",
   "nbconvert_exporter": "python",
   "pygments_lexer": "ipython3",
   "version": "3.11.3"
  }
 },
 "nbformat": 4,
 "nbformat_minor": 5
}
